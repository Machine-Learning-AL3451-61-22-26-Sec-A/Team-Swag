{
  "nbformat": 4,
  "nbformat_minor": 0,
  "metadata": {
    "colab": {
      "provenance": []
    },
    "kernelspec": {
      "name": "python3",
      "display_name": "Python 3"
    },
    "language_info": {
      "name": "python"
    }
  },
  "cells": [
    {
      "cell_type": "code",
      "execution_count": 3,
      "metadata": {
        "colab": {
          "base_uri": "https://localhost:8080/"
        },
        "id": "4x34ANwpdJ1_",
        "outputId": "7985fe5c-8895-436c-abd7-edbbc6f2d1bb"
      },
      "outputs": [
        {
          "output_type": "stream",
          "name": "stdout",
          "text": [
            "Candidate Elimination Algorithm\n",
            "Initialization of specific_h:\n",
            " ['Sunny' 'Warm' 'Normal' 'Strong' 'Warm' 'Same']\n",
            "Initialization of general_h:\n",
            " [['?', '?', '?', '?', '?', '?'], ['?', '?', '?', '?', '?', '?'], ['?', '?', '?', '?', '?', '?'], ['?', '?', '?', '?', '?', '?'], ['?', '?', '?', '?', '?', '?'], ['?', '?', '?', '?', '?', '?']]\n",
            "Step 1\n",
            "specific_h:\n",
            " ['Sunny' 'Warm' 'Normal' 'Strong' 'Warm' 'Same']\n",
            "general_h:\n",
            " [['?', '?', '?', '?', '?', '?'], ['?', '?', '?', '?', '?', '?'], ['?', '?', '?', '?', '?', '?'], ['?', '?', '?', '?', '?', '?'], ['?', '?', '?', '?', '?', '?'], ['?', '?', '?', '?', '?', '?']]\n",
            "\n",
            "\n",
            "Step 2\n",
            "specific_h:\n",
            " ['Sunny' 'Warm' 'Normal' 'Strong' 'Warm' 'Same']\n",
            "general_h:\n",
            " [['?', '?', '?', '?', '?', '?'], ['?', '?', '?', '?', '?', '?'], ['?', '?', '?', '?', '?', '?'], ['?', '?', '?', '?', '?', '?'], ['?', '?', '?', '?', '?', '?'], ['?', '?', '?', '?', '?', '?']]\n",
            "\n",
            "\n",
            "Step 3\n",
            "specific_h:\n",
            " ['Sunny' 'Warm' 'Normal' 'Strong' 'Warm' 'Same']\n",
            "general_h:\n",
            " [['?', '?', '?', '?', '?', '?'], ['?', '?', '?', '?', '?', '?'], ['?', '?', '?', '?', '?', '?'], ['?', '?', '?', '?', '?', '?'], ['?', '?', '?', '?', '?', '?'], ['?', '?', '?', '?', '?', '?']]\n",
            "\n",
            "\n",
            "Step 4\n",
            "specific_h:\n",
            " ['Sunny' 'Warm' 'Normal' 'Strong' 'Warm' 'Same']\n",
            "general_h:\n",
            " [['?', '?', '?', '?', '?', '?'], ['?', '?', '?', '?', '?', '?'], ['?', '?', '?', '?', '?', '?'], ['?', '?', '?', '?', '?', '?'], ['?', '?', '?', '?', '?', '?'], ['?', '?', '?', '?', '?', '?']]\n",
            "\n",
            "\n",
            "Final Specific_h:\n",
            "['Sunny' 'Warm' 'Normal' 'Strong' 'Warm' 'Same']\n",
            "Final General_h:\n",
            "[]\n"
          ]
        }
      ],
      "source": [
        "import numpy as np\n",
        "import pandas as pd\n",
        "\n",
        "def learn(concepts, target):\n",
        "    specific_h = concepts[0].copy()\n",
        "    print(\"Initialization of specific_h:\\n\", specific_h)\n",
        "    general_h = [[\"?\" for _ in range(len(specific_h))] for _ in range(len(specific_h))]\n",
        "    print(\"Initialization of general_h:\\n\", general_h)\n",
        "\n",
        "    for i, h in enumerate(concepts):\n",
        "        if target[i] == \"yes\":\n",
        "            print(\"If instance is Positive\")\n",
        "            for x in range(len(specific_h)):\n",
        "                if h[x] != specific_h[x]:\n",
        "                    specific_h[x] = '?'\n",
        "                    general_h[x][x] = '?'\n",
        "\n",
        "        if target[i] == \"no\":\n",
        "            print(\"If instance is Negative\")\n",
        "            for x in range(len(specific_h)):\n",
        "                if h[x] != specific_h[x]:\n",
        "                    general_h[x][x] = specific_h[x]\n",
        "                else:\n",
        "                    general_h[x][x] = '?'\n",
        "\n",
        "        print(\"Step\", i+1)\n",
        "        print(\"specific_h:\\n\", specific_h)\n",
        "        print(\"general_h:\\n\", general_h)\n",
        "        print(\"\\n\")\n",
        "\n",
        "    indices = [i for i, val in enumerate(general_h) if val == ['?', '?', '?', '?', '?', '?']]\n",
        "    for i in indices:\n",
        "        general_h.remove(['?', '?', '?', '?', '?', '?'])\n",
        "    return specific_h, general_h\n",
        "\n",
        "def main():\n",
        "    print(\"Candidate Elimination Algorithm\")\n",
        "\n",
        "    data = pd.read_csv(r\"/content/trainingdata (1).csv\")\n",
        "    concepts = np.array(data.iloc[:, 0:-1])\n",
        "    target = np.array(data.iloc[:, -1])\n",
        "\n",
        "    s_final, g_final = learn(concepts, target)\n",
        "    print(\"Final Specific_h:\")\n",
        "    print(s_final)\n",
        "    print(\"Final General_h:\")\n",
        "    print(g_final)\n",
        "\n",
        "if __name__ == \"__main__\":\n",
        "    main()"
      ]
    }
  ]
}